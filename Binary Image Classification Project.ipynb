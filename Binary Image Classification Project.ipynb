{
 "cells": [
  {
   "cell_type": "code",
   "execution_count": 1,
   "id": "e6e55e55",
   "metadata": {},
   "outputs": [],
   "source": [
    "import numpy as np"
   ]
  },
  {
   "cell_type": "code",
   "execution_count": 1,
   "id": "d6c5b38a",
   "metadata": {},
   "outputs": [],
   "source": [
    "import numpy as np\n",
    "import pandas as pd\n",
    "%matplotlib inline\n",
    "import matplotlib as mpl\n",
    "import matplotlib.pyplot as plt\n",
    "import os"
   ]
  },
  {
   "cell_type": "code",
   "execution_count": 2,
   "id": "300cd50d",
   "metadata": {},
   "outputs": [],
   "source": [
    "import tensorflow as tf\n",
    "from tensorflow import keras"
   ]
  },
  {
   "cell_type": "code",
   "execution_count": 46,
   "id": "48aeef9b",
   "metadata": {},
   "outputs": [],
   "source": [
    "train_dir = r'C:\\Users\\sejal\\Downloads\\train'\n",
    "validation_dir = r'C:\\Users\\sejal\\Downloads\\validation'\n",
    "test_dir =r'C:\\Users\\sejal\\Downloads\\test'"
   ]
  },
  {
   "cell_type": "code",
   "execution_count": 47,
   "id": "3d54f096",
   "metadata": {},
   "outputs": [],
   "source": [
    "from tensorflow.keras.preprocessing.image import ImageDataGenerator"
   ]
  },
  {
   "cell_type": "code",
   "execution_count": 48,
   "id": "a10d8218",
   "metadata": {},
   "outputs": [
    {
     "name": "stdout",
     "output_type": "stream",
     "text": [
      "Found 2000 images belonging to 2 classes.\n",
      "Found 1000 images belonging to 2 classes.\n"
     ]
    }
   ],
   "source": [
    "train_datagen = ImageDataGenerator(rescale=1./255)\n",
    "test_datagen = ImageDataGenerator(rescale=1./255)\n",
    "\n",
    "train_generator = train_datagen.flow_from_directory(\n",
    "        train_dir,\n",
    "        target_size=(150, 150),\n",
    "        batch_size=20,\n",
    "        class_mode='binary')\n",
    "\n",
    "validation_generator = test_datagen.flow_from_directory(\n",
    "        validation_dir,\n",
    "        target_size=(150, 150),\n",
    "        batch_size=20,\n",
    "        class_mode='binary')"
   ]
  },
  {
   "cell_type": "code",
   "execution_count": 49,
   "id": "23433e42",
   "metadata": {},
   "outputs": [],
   "source": [
    "from tensorflow.keras import layers\n",
    "from tensorflow.keras import models"
   ]
  },
  {
   "cell_type": "code",
   "execution_count": 50,
   "id": "e61a3ef4",
   "metadata": {},
   "outputs": [],
   "source": [
    "model = models.Sequential()\n",
    "\n",
    "model.add(layers.Conv2D(32, (3, 3), activation='relu',\n",
    "                        input_shape=(150, 150, 3)))\n",
    "model.add(layers.MaxPooling2D((2, 2)))\n",
    "\n",
    "model.add(layers.Conv2D(64, (3, 3), activation='relu'))\n",
    "model.add(layers.MaxPooling2D((2, 2)))\n",
    "\n",
    "model.add(layers.Conv2D(128, (3, 3), activation='relu'))\n",
    "model.add(layers.MaxPooling2D((2, 2)))\n",
    "\n",
    "model.add(layers.Conv2D(128, (3, 3), activation='relu'))\n",
    "model.add(layers.MaxPooling2D((2, 2)))\n",
    "\n",
    "model.add(layers.Flatten())\n",
    "\n",
    "model.add(layers.Dense(512, activation='relu'))\n",
    "\n",
    "model.add(layers.Dense(1, activation='sigmoid'))"
   ]
  },
  {
   "cell_type": "code",
   "execution_count": 51,
   "id": "83819715",
   "metadata": {},
   "outputs": [
    {
     "name": "stdout",
     "output_type": "stream",
     "text": [
      "Model: \"sequential\"\n",
      "_________________________________________________________________\n",
      " Layer (type)                Output Shape              Param #   \n",
      "=================================================================\n",
      " conv2d (Conv2D)             (None, 148, 148, 32)      896       \n",
      "                                                                 \n",
      " max_pooling2d (MaxPooling2D  (None, 74, 74, 32)       0         \n",
      " )                                                               \n",
      "                                                                 \n",
      " conv2d_1 (Conv2D)           (None, 72, 72, 64)        18496     \n",
      "                                                                 \n",
      " max_pooling2d_1 (MaxPooling  (None, 36, 36, 64)       0         \n",
      " 2D)                                                             \n",
      "                                                                 \n",
      " conv2d_2 (Conv2D)           (None, 34, 34, 128)       73856     \n",
      "                                                                 \n",
      " max_pooling2d_2 (MaxPooling  (None, 17, 17, 128)      0         \n",
      " 2D)                                                             \n",
      "                                                                 \n",
      " conv2d_3 (Conv2D)           (None, 15, 15, 128)       147584    \n",
      "                                                                 \n",
      " max_pooling2d_3 (MaxPooling  (None, 7, 7, 128)        0         \n",
      " 2D)                                                             \n",
      "                                                                 \n",
      " flatten (Flatten)           (None, 6272)              0         \n",
      "                                                                 \n",
      " dense (Dense)               (None, 512)               3211776   \n",
      "                                                                 \n",
      " dense_1 (Dense)             (None, 1)                 513       \n",
      "                                                                 \n",
      "=================================================================\n",
      "Total params: 3,453,121\n",
      "Trainable params: 3,453,121\n",
      "Non-trainable params: 0\n",
      "_________________________________________________________________\n"
     ]
    }
   ],
   "source": [
    "model.summary()"
   ]
  },
  {
   "cell_type": "code",
   "execution_count": 53,
   "id": "8e7a21c7",
   "metadata": {},
   "outputs": [],
   "source": [
    "from tensorflow.keras import optimizers\n",
    "\n",
    "model.compile(loss='binary_crossentropy',\n",
    "              optimizer=optimizers.RMSprop(learning_rate=1e-4),\n",
    "              metrics=['acc'])"
   ]
  },
  {
   "cell_type": "code",
   "execution_count": 54,
   "id": "91483d49",
   "metadata": {},
   "outputs": [
    {
     "name": "stderr",
     "output_type": "stream",
     "text": [
      "C:\\Users\\sejal\\AppData\\Local\\Temp\\ipykernel_19044\\85649991.py:1: UserWarning: `Model.fit_generator` is deprecated and will be removed in a future version. Please use `Model.fit`, which supports generators.\n",
      "  history = model.fit_generator(\n"
     ]
    },
    {
     "name": "stdout",
     "output_type": "stream",
     "text": [
      "Epoch 1/20\n",
      "100/100 [==============================] - 39s 354ms/step - loss: 0.6931 - acc: 0.5205 - val_loss: 0.6815 - val_acc: 0.5840\n",
      "Epoch 2/20\n",
      "100/100 [==============================] - 36s 357ms/step - loss: 0.6584 - acc: 0.6000 - val_loss: 0.6451 - val_acc: 0.6310\n",
      "Epoch 3/20\n",
      "100/100 [==============================] - 34s 340ms/step - loss: 0.6042 - acc: 0.6750 - val_loss: 0.6136 - val_acc: 0.6540\n",
      "Epoch 4/20\n",
      "100/100 [==============================] - 35s 349ms/step - loss: 0.5670 - acc: 0.7005 - val_loss: 0.6239 - val_acc: 0.6290\n",
      "Epoch 5/20\n",
      "100/100 [==============================] - 34s 344ms/step - loss: 0.5384 - acc: 0.7195 - val_loss: 0.5786 - val_acc: 0.6880\n",
      "Epoch 6/20\n",
      "100/100 [==============================] - 34s 342ms/step - loss: 0.5165 - acc: 0.7375 - val_loss: 0.5929 - val_acc: 0.6800\n",
      "Epoch 7/20\n",
      "100/100 [==============================] - 37s 370ms/step - loss: 0.4948 - acc: 0.7635 - val_loss: 0.5627 - val_acc: 0.7020\n",
      "Epoch 8/20\n",
      "100/100 [==============================] - 34s 341ms/step - loss: 0.4654 - acc: 0.7775 - val_loss: 0.5629 - val_acc: 0.7040\n",
      "Epoch 9/20\n",
      "100/100 [==============================] - 35s 348ms/step - loss: 0.4471 - acc: 0.7855 - val_loss: 0.6176 - val_acc: 0.6840\n",
      "Epoch 10/20\n",
      "100/100 [==============================] - 36s 355ms/step - loss: 0.4204 - acc: 0.8120 - val_loss: 0.6618 - val_acc: 0.6690\n",
      "Epoch 11/20\n",
      "100/100 [==============================] - 34s 340ms/step - loss: 0.3980 - acc: 0.8195 - val_loss: 0.5640 - val_acc: 0.7200\n",
      "Epoch 12/20\n",
      "100/100 [==============================] - 33s 325ms/step - loss: 0.3737 - acc: 0.8210 - val_loss: 0.5892 - val_acc: 0.7160\n",
      "Epoch 13/20\n",
      "100/100 [==============================] - 33s 329ms/step - loss: 0.3550 - acc: 0.8415 - val_loss: 0.5902 - val_acc: 0.7200\n",
      "Epoch 14/20\n",
      "100/100 [==============================] - 33s 328ms/step - loss: 0.3323 - acc: 0.8590 - val_loss: 0.5796 - val_acc: 0.7210\n",
      "Epoch 15/20\n",
      "100/100 [==============================] - 33s 329ms/step - loss: 0.3003 - acc: 0.8710 - val_loss: 0.5918 - val_acc: 0.7170\n",
      "Epoch 16/20\n",
      "100/100 [==============================] - 34s 335ms/step - loss: 0.2842 - acc: 0.8790 - val_loss: 0.5923 - val_acc: 0.7300\n",
      "Epoch 17/20\n",
      "100/100 [==============================] - 33s 334ms/step - loss: 0.2694 - acc: 0.9020 - val_loss: 0.5957 - val_acc: 0.7290\n",
      "Epoch 18/20\n",
      "100/100 [==============================] - 35s 352ms/step - loss: 0.2418 - acc: 0.8965 - val_loss: 0.6203 - val_acc: 0.7160\n",
      "Epoch 19/20\n",
      "100/100 [==============================] - 33s 333ms/step - loss: 0.2225 - acc: 0.9125 - val_loss: 0.6190 - val_acc: 0.7370\n",
      "Epoch 20/20\n",
      "100/100 [==============================] - 34s 336ms/step - loss: 0.1963 - acc: 0.9270 - val_loss: 0.6939 - val_acc: 0.7270\n"
     ]
    }
   ],
   "source": [
    "history = model.fit_generator(\n",
    "      train_generator,\n",
    "      steps_per_epoch=100,\n",
    "      epochs=20,\n",
    "      validation_data=validation_generator,\n",
    "      validation_steps=50)"
   ]
  },
  {
   "cell_type": "code",
   "execution_count": 55,
   "id": "143d05fe",
   "metadata": {},
   "outputs": [
    {
     "data": {
      "image/png": "[encoded data removed]",
      "text/plain": [
       "<Figure size 800x500 with 1 Axes>"
      ]
     },
     "metadata": {},
     "output_type": "display_data"
    }
   ],
   "source": [
    "pd.DataFrame(history.history).plot(figsize=(8, 5))\n",
    "plt.grid(True)\n",
    "plt.gca().set_ylim(0, 1)\n",
    "plt.show()"
   ]
  },
  {
   "cell_type": "code",
   "execution_count": 56,
   "id": "12102aaa",
   "metadata": {},
   "outputs": [],
   "source": [
    "model.save(\"model.h5\")"
   ]
  },
  {
   "cell_type": "code",
   "execution_count": 57,
   "id": "34805af7",
   "metadata": {},
   "outputs": [],
   "source": [
    "from tensorflow.keras import backend as K \n",
    "\n",
    "K.clear_session()\n",
    "del model"
   ]
  },
  {
   "cell_type": "code",
   "execution_count": 58,
   "id": "c5f0f36d",
   "metadata": {},
   "outputs": [
    {
     "name": "stdout",
     "output_type": "stream",
     "text": [
      "Found 2000 images belonging to 2 classes.\n",
      "Found 1000 images belonging to 2 classes.\n"
     ]
    }
   ],
   "source": [
    "train_datagen = ImageDataGenerator(\n",
    "    rescale=1./255,\n",
    "    rotation_range=40,\n",
    "    width_shift_range=0.2,\n",
    "    height_shift_range=0.2,\n",
    "    shear_range=0.2,\n",
    "    zoom_range=0.2,\n",
    "    horizontal_flip=True,)\n",
    "\n",
    "test_datagen = ImageDataGenerator(rescale=1./255)\n",
    "\n",
    "train_generator = train_datagen.flow_from_directory(\n",
    "        train_dir,\n",
    "        target_size=(150, 150),\n",
    "        batch_size=32,\n",
    "        class_mode='binary')\n",
    "\n",
    "validation_generator = test_datagen.flow_from_directory(\n",
    "        validation_dir,\n",
    "        target_size=(150, 150),\n",
    "        batch_size=32,\n",
    "        class_mode='binary')\n"
   ]
  },
  {
   "cell_type": "code",
   "execution_count": 60,
   "id": "a468bf30",
   "metadata": {},
   "outputs": [],
   "source": [
    "model = models.Sequential()\n",
    "model.add(layers.Conv2D(32, (3, 3), activation='relu',\n",
    "                        input_shape=(150, 150, 3)))\n",
    "model.add(layers.MaxPooling2D((2, 2)))\n",
    "model.add(layers.Conv2D(64, (3, 3), activation='relu'))\n",
    "model.add(layers.MaxPooling2D((2, 2)))\n",
    "model.add(layers.Conv2D(128, (3, 3), activation='relu'))\n",
    "model.add(layers.MaxPooling2D((2, 2)))\n",
    "model.add(layers.Conv2D(128, (3, 3), activation='relu'))\n",
    "model.add(layers.MaxPooling2D((2, 2)))\n",
    "model.add(layers.Flatten())\n",
    "model.add(layers.Dropout(0.5))\n",
    "model.add(layers.Dense(512, activation='relu'))\n",
    "model.add(layers.Dense(1, activation='sigmoid'))\n",
    "\n",
    "model.compile(loss='binary_crossentropy',\n",
    "              optimizer=optimizers.RMSprop(learning_rate=1e-4),\n",
    "              metrics=['acc'])"
   ]
  },
  {
   "cell_type": "code",
   "execution_count": 71,
   "id": "46d77ddb",
   "metadata": {
    "scrolled": true
   },
   "outputs": [
    {
     "name": "stderr",
     "output_type": "stream",
     "text": [
      "C:\\Users\\sejal\\AppData\\Local\\Temp\\ipykernel_19044\\3587193255.py:1: UserWarning: `Model.fit_generator` is deprecated and will be removed in a future version. Please use `Model.fit`, which supports generators.\n",
      "  history = model.fit_generator(\n"
     ]
    },
    {
     "name": "stdout",
     "output_type": "stream",
     "text": [
      "Epoch 1/100\n",
      "5/5 [==============================] - 3s 526ms/step - loss: 0.6502 - acc: 0.5688 - val_loss: 0.5918 - val_acc: 0.7000\n",
      "Epoch 2/100\n",
      "5/5 [==============================] - 2s 475ms/step - loss: 0.6645 - acc: 0.6000 - val_loss: 0.6181 - val_acc: 0.6187\n",
      "Epoch 3/100\n",
      "5/5 [==============================] - 2s 451ms/step - loss: 0.6220 - acc: 0.6750 - val_loss: 0.6081 - val_acc: 0.6375\n",
      "Epoch 4/100\n",
      "5/5 [==============================] - 3s 533ms/step - loss: 0.6100 - acc: 0.6250 - val_loss: 0.6224 - val_acc: 0.6562\n",
      "Epoch 5/100\n",
      "5/5 [==============================] - 2s 475ms/step - loss: 0.6057 - acc: 0.6562 - val_loss: 0.6531 - val_acc: 0.5875\n",
      "Epoch 6/100\n",
      "5/5 [==============================] - 2s 465ms/step - loss: 0.6056 - acc: 0.7188 - val_loss: 0.7421 - val_acc: 0.5688\n",
      "Epoch 7/100\n",
      "5/5 [==============================] - 3s 505ms/step - loss: 0.6273 - acc: 0.6000 - val_loss: 0.6295 - val_acc: 0.6500\n",
      "Epoch 8/100\n",
      "5/5 [==============================] - 3s 500ms/step - loss: 0.6201 - acc: 0.6500 - val_loss: 0.5356 - val_acc: 0.7563\n",
      "Epoch 9/100\n",
      "5/5 [==============================] - 2s 478ms/step - loss: 0.6343 - acc: 0.6250 - val_loss: 0.6221 - val_acc: 0.6125\n",
      "Epoch 10/100\n",
      "5/5 [==============================] - 3s 537ms/step - loss: 0.6382 - acc: 0.6375 - val_loss: 0.6433 - val_acc: 0.6000\n",
      "Epoch 11/100\n",
      "5/5 [==============================] - 3s 486ms/step - loss: 0.5647 - acc: 0.7000 - val_loss: 0.6159 - val_acc: 0.6250\n",
      "Epoch 12/100\n",
      "5/5 [==============================] - 2s 439ms/step - loss: 0.5876 - acc: 0.6944 - val_loss: 0.8354 - val_acc: 0.4812\n",
      "Epoch 13/100\n",
      "5/5 [==============================] - 3s 491ms/step - loss: 0.6345 - acc: 0.6438 - val_loss: 0.6173 - val_acc: 0.6375\n",
      "Epoch 14/100\n",
      "5/5 [==============================] - 2s 473ms/step - loss: 0.6364 - acc: 0.5938 - val_loss: 0.5800 - val_acc: 0.6938\n",
      "Epoch 15/100\n",
      "5/5 [==============================] - 2s 473ms/step - loss: 0.6340 - acc: 0.6313 - val_loss: 0.6335 - val_acc: 0.6375\n",
      "Epoch 16/100\n",
      "5/5 [==============================] - 3s 602ms/step - loss: 0.5723 - acc: 0.7312 - val_loss: 0.6499 - val_acc: 0.6187\n",
      "Epoch 17/100\n",
      "5/5 [==============================] - 3s 516ms/step - loss: 0.6153 - acc: 0.6000 - val_loss: 0.6061 - val_acc: 0.6687\n",
      "Epoch 18/100\n",
      "5/5 [==============================] - 2s 473ms/step - loss: 0.6163 - acc: 0.6375 - val_loss: 0.6059 - val_acc: 0.6250\n",
      "Epoch 19/100\n",
      "5/5 [==============================] - 3s 529ms/step - loss: 0.6126 - acc: 0.6500 - val_loss: 0.6856 - val_acc: 0.5688\n",
      "Epoch 20/100\n",
      "5/5 [==============================] - 3s 502ms/step - loss: 0.6670 - acc: 0.6187 - val_loss: 0.6313 - val_acc: 0.6313\n",
      "Epoch 21/100\n",
      "5/5 [==============================] - 3s 546ms/step - loss: 0.6253 - acc: 0.6438 - val_loss: 0.6362 - val_acc: 0.6313\n",
      "Epoch 22/100\n",
      "5/5 [==============================] - 3s 642ms/step - loss: 0.6026 - acc: 0.6438 - val_loss: 0.6336 - val_acc: 0.5875\n",
      "Epoch 23/100\n",
      "5/5 [==============================] - 3s 586ms/step - loss: 0.6052 - acc: 0.6375 - val_loss: 0.5814 - val_acc: 0.6687\n",
      "Epoch 24/100\n",
      "5/5 [==============================] - 3s 522ms/step - loss: 0.6101 - acc: 0.6187 - val_loss: 0.6271 - val_acc: 0.6375\n",
      "Epoch 25/100\n",
      "5/5 [==============================] - 3s 591ms/step - loss: 0.6147 - acc: 0.6938 - val_loss: 0.5622 - val_acc: 0.7312\n",
      "Epoch 26/100\n",
      "5/5 [==============================] - 3s 544ms/step - loss: 0.5941 - acc: 0.6750 - val_loss: 0.6457 - val_acc: 0.6125\n",
      "Epoch 27/100\n",
      "5/5 [==============================] - 3s 493ms/step - loss: 0.6095 - acc: 0.6687 - val_loss: 0.6213 - val_acc: 0.6125\n",
      "Epoch 28/100\n",
      "5/5 [==============================] - 3s 563ms/step - loss: 0.5979 - acc: 0.6375 - val_loss: 0.5881 - val_acc: 0.6625\n",
      "Epoch 29/100\n",
      "5/5 [==============================] - 3s 498ms/step - loss: 0.5833 - acc: 0.7125 - val_loss: 0.6179 - val_acc: 0.6125\n",
      "Epoch 30/100\n",
      "5/5 [==============================] - 2s 460ms/step - loss: 0.6537 - acc: 0.6597 - val_loss: 0.6275 - val_acc: 0.6062\n",
      "Epoch 31/100\n",
      "5/5 [==============================] - 3s 511ms/step - loss: 0.6011 - acc: 0.6438 - val_loss: 0.6625 - val_acc: 0.6250\n",
      "Epoch 32/100\n",
      "5/5 [==============================] - 2s 479ms/step - loss: 0.6417 - acc: 0.6687 - val_loss: 0.6598 - val_acc: 0.5875\n",
      "Epoch 33/100\n",
      "5/5 [==============================] - 3s 485ms/step - loss: 0.5737 - acc: 0.6875 - val_loss: 0.6710 - val_acc: 0.6625\n",
      "Epoch 34/100\n",
      "5/5 [==============================] - 3s 580ms/step - loss: 0.6165 - acc: 0.6687 - val_loss: 0.6069 - val_acc: 0.6812\n",
      "Epoch 35/100\n",
      "5/5 [==============================] - 3s 541ms/step - loss: 0.6109 - acc: 0.6625 - val_loss: 0.5785 - val_acc: 0.7188\n",
      "Epoch 36/100\n",
      "5/5 [==============================] - 3s 487ms/step - loss: 0.6029 - acc: 0.6687 - val_loss: 0.6120 - val_acc: 0.6313\n",
      "Epoch 37/100\n",
      "5/5 [==============================] - 3s 493ms/step - loss: 0.6124 - acc: 0.6319 - val_loss: 0.6128 - val_acc: 0.6562\n",
      "Epoch 38/100\n",
      "5/5 [==============================] - 3s 500ms/step - loss: 0.6350 - acc: 0.6062 - val_loss: 0.5847 - val_acc: 0.6750\n",
      "Epoch 39/100\n",
      "5/5 [==============================] - 2s 480ms/step - loss: 0.6104 - acc: 0.6667 - val_loss: 0.5918 - val_acc: 0.6812\n",
      "Epoch 40/100\n",
      "5/5 [==============================] - 12s 3s/step - loss: 0.6021 - acc: 0.6667 - val_loss: 0.7041 - val_acc: 0.5500\n",
      "Epoch 41/100\n",
      "5/5 [==============================] - 4s 733ms/step - loss: 0.5721 - acc: 0.7125 - val_loss: 0.6142 - val_acc: 0.6438\n",
      "Epoch 42/100\n",
      "5/5 [==============================] - 3s 535ms/step - loss: 0.5561 - acc: 0.7188 - val_loss: 0.6724 - val_acc: 0.5813\n",
      "Epoch 43/100\n",
      "5/5 [==============================] - 3s 572ms/step - loss: 0.5754 - acc: 0.7188 - val_loss: 0.5384 - val_acc: 0.7500\n",
      "Epoch 44/100\n",
      "5/5 [==============================] - 3s 540ms/step - loss: 0.6316 - acc: 0.6562 - val_loss: 0.5534 - val_acc: 0.7125\n",
      "Epoch 45/100\n",
      "5/5 [==============================] - 2s 469ms/step - loss: 0.7108 - acc: 0.5833 - val_loss: 0.5624 - val_acc: 0.6875\n",
      "Epoch 46/100\n",
      "5/5 [==============================] - 3s 505ms/step - loss: 0.6038 - acc: 0.7000 - val_loss: 0.6058 - val_acc: 0.6812\n",
      "Epoch 47/100\n",
      "5/5 [==============================] - 3s 504ms/step - loss: 0.5711 - acc: 0.7437 - val_loss: 0.6164 - val_acc: 0.6625\n",
      "Epoch 48/100\n",
      "5/5 [==============================] - 3s 511ms/step - loss: 0.5957 - acc: 0.6625 - val_loss: 0.6137 - val_acc: 0.6125\n",
      "Epoch 49/100\n",
      "5/5 [==============================] - 3s 532ms/step - loss: 0.6197 - acc: 0.6750 - val_loss: 0.5913 - val_acc: 0.6687\n",
      "Epoch 50/100\n",
      "5/5 [==============================] - 3s 550ms/step - loss: 0.6346 - acc: 0.6062 - val_loss: 0.5788 - val_acc: 0.6938\n",
      "Epoch 51/100\n",
      "5/5 [==============================] - 3s 554ms/step - loss: 0.5906 - acc: 0.6812 - val_loss: 0.5548 - val_acc: 0.7125\n",
      "Epoch 52/100\n",
      "5/5 [==============================] - 4s 743ms/step - loss: 0.5605 - acc: 0.6875 - val_loss: 0.5885 - val_acc: 0.6812\n",
      "Epoch 53/100\n",
      "5/5 [==============================] - 4s 819ms/step - loss: 0.5574 - acc: 0.6938 - val_loss: 0.6134 - val_acc: 0.6687\n",
      "Epoch 54/100\n",
      "5/5 [==============================] - 5s 997ms/step - loss: 0.5835 - acc: 0.6938 - val_loss: 0.7030 - val_acc: 0.6562\n",
      "Epoch 55/100\n",
      "5/5 [==============================] - 5s 982ms/step - loss: 0.6228 - acc: 0.6438 - val_loss: 0.6144 - val_acc: 0.6625\n",
      "Epoch 56/100\n",
      "5/5 [==============================] - 3s 527ms/step - loss: 0.6168 - acc: 0.6625 - val_loss: 0.6356 - val_acc: 0.7000\n",
      "Epoch 57/100\n",
      "5/5 [==============================] - 3s 512ms/step - loss: 0.5921 - acc: 0.6938 - val_loss: 0.6235 - val_acc: 0.6500\n",
      "Epoch 58/100\n",
      "5/5 [==============================] - 3s 559ms/step - loss: 0.5796 - acc: 0.6812 - val_loss: 0.6854 - val_acc: 0.6000\n",
      "Epoch 59/100\n",
      "5/5 [==============================] - 3s 558ms/step - loss: 0.5975 - acc: 0.6562 - val_loss: 0.6027 - val_acc: 0.6625\n",
      "Epoch 60/100\n",
      "5/5 [==============================] - 3s 551ms/step - loss: 0.6373 - acc: 0.6250 - val_loss: 0.6689 - val_acc: 0.5875\n",
      "Epoch 61/100\n",
      "5/5 [==============================] - 3s 532ms/step - loss: 0.6232 - acc: 0.6687 - val_loss: 0.5803 - val_acc: 0.6750\n",
      "Epoch 62/100\n",
      "5/5 [==============================] - 3s 551ms/step - loss: 0.5945 - acc: 0.7188 - val_loss: 0.5698 - val_acc: 0.6500\n",
      "Epoch 63/100\n",
      "5/5 [==============================] - 3s 532ms/step - loss: 0.6457 - acc: 0.6375 - val_loss: 0.5661 - val_acc: 0.7188\n",
      "Epoch 64/100\n",
      "5/5 [==============================] - 3s 582ms/step - loss: 0.5884 - acc: 0.7125 - val_loss: 0.6115 - val_acc: 0.6438\n",
      "Epoch 65/100\n",
      "5/5 [==============================] - 3s 583ms/step - loss: 0.5560 - acc: 0.7563 - val_loss: 0.6379 - val_acc: 0.6500\n",
      "Epoch 66/100\n",
      "5/5 [==============================] - 3s 567ms/step - loss: 0.6115 - acc: 0.6812 - val_loss: 0.6383 - val_acc: 0.6062\n",
      "Epoch 67/100\n",
      "5/5 [==============================] - 3s 596ms/step - loss: 0.6493 - acc: 0.6528 - val_loss: 0.6024 - val_acc: 0.6250\n",
      "Epoch 68/100\n",
      "5/5 [==============================] - 3s 563ms/step - loss: 0.5534 - acc: 0.7188 - val_loss: 0.5270 - val_acc: 0.7188\n",
      "Epoch 69/100\n",
      "5/5 [==============================] - 3s 544ms/step - loss: 0.6811 - acc: 0.5938 - val_loss: 0.5614 - val_acc: 0.7188\n",
      "Epoch 70/100\n",
      "5/5 [==============================] - 3s 584ms/step - loss: 0.6186 - acc: 0.6062 - val_loss: 0.5791 - val_acc: 0.6875\n",
      "Epoch 71/100\n",
      "5/5 [==============================] - 3s 586ms/step - loss: 0.6143 - acc: 0.6375 - val_loss: 0.6081 - val_acc: 0.6375\n",
      "Epoch 72/100\n",
      "5/5 [==============================] - 3s 563ms/step - loss: 0.6166 - acc: 0.7125 - val_loss: 0.5955 - val_acc: 0.6812\n",
      "Epoch 73/100\n",
      "5/5 [==============================] - 3s 543ms/step - loss: 0.5686 - acc: 0.7500 - val_loss: 0.5963 - val_acc: 0.6812\n",
      "Epoch 74/100\n",
      "5/5 [==============================] - 3s 547ms/step - loss: 0.5542 - acc: 0.7312 - val_loss: 0.5271 - val_acc: 0.7250\n",
      "Epoch 75/100\n",
      "5/5 [==============================] - 3s 537ms/step - loss: 0.5846 - acc: 0.6750 - val_loss: 0.6090 - val_acc: 0.6625\n",
      "Epoch 76/100\n",
      "5/5 [==============================] - 4493s 1123s/step - loss: 0.6548 - acc: 0.6438 - val_loss: 0.6376 - val_acc: 0.6313\n",
      "Epoch 77/100\n",
      "5/5 [==============================] - 4s 748ms/step - loss: 0.6165 - acc: 0.6062 - val_loss: 0.5313 - val_acc: 0.7312\n",
      "Epoch 78/100\n",
      "5/5 [==============================] - 6s 982ms/step - loss: 0.6100 - acc: 0.6625 - val_loss: 0.5754 - val_acc: 0.7000\n",
      "Epoch 79/100\n",
      "5/5 [==============================] - 5s 977ms/step - loss: 0.5954 - acc: 0.6812 - val_loss: 0.5856 - val_acc: 0.6500\n",
      "Epoch 80/100\n",
      "5/5 [==============================] - 5s 928ms/step - loss: 0.5914 - acc: 0.6812 - val_loss: 0.5885 - val_acc: 0.6500\n",
      "Epoch 81/100\n",
      "5/5 [==============================] - 4s 828ms/step - loss: 0.6193 - acc: 0.6750 - val_loss: 0.5746 - val_acc: 0.6438\n",
      "Epoch 82/100\n",
      "5/5 [==============================] - 4s 815ms/step - loss: 0.6039 - acc: 0.6625 - val_loss: 0.6220 - val_acc: 0.6562\n",
      "Epoch 83/100\n",
      "5/5 [==============================] - 4s 809ms/step - loss: 0.5481 - acc: 0.6812 - val_loss: 0.6187 - val_acc: 0.6500\n",
      "Epoch 84/100\n",
      "5/5 [==============================] - 5s 1s/step - loss: 0.6199 - acc: 0.6438 - val_loss: 0.6095 - val_acc: 0.7063\n",
      "Epoch 85/100\n",
      "5/5 [==============================] - 6s 945ms/step - loss: 0.5505 - acc: 0.7312 - val_loss: 0.5669 - val_acc: 0.6750\n",
      "Epoch 86/100\n",
      "5/5 [==============================] - 5s 946ms/step - loss: 0.5656 - acc: 0.6625 - val_loss: 0.7200 - val_acc: 0.5750\n",
      "Epoch 87/100\n",
      "5/5 [==============================] - 5s 931ms/step - loss: 0.6005 - acc: 0.6750 - val_loss: 0.5766 - val_acc: 0.7125\n",
      "Epoch 88/100\n",
      "5/5 [==============================] - 5s 1s/step - loss: 0.6430 - acc: 0.6250 - val_loss: 0.6300 - val_acc: 0.6750\n",
      "Epoch 89/100\n",
      "5/5 [==============================] - 5s 963ms/step - loss: 0.5931 - acc: 0.6438 - val_loss: 0.7053 - val_acc: 0.5875\n",
      "Epoch 90/100\n",
      "5/5 [==============================] - 4s 806ms/step - loss: 0.5928 - acc: 0.6500 - val_loss: 0.6655 - val_acc: 0.6250\n",
      "Epoch 91/100\n",
      "5/5 [==============================] - 4s 779ms/step - loss: 0.5606 - acc: 0.6806 - val_loss: 0.6138 - val_acc: 0.6625\n",
      "Epoch 92/100\n",
      "5/5 [==============================] - 4s 826ms/step - loss: 0.6011 - acc: 0.6500 - val_loss: 0.5520 - val_acc: 0.7375\n",
      "Epoch 93/100\n",
      "5/5 [==============================] - 4s 840ms/step - loss: 0.5698 - acc: 0.6875 - val_loss: 0.5752 - val_acc: 0.7188\n",
      "Epoch 94/100\n",
      "5/5 [==============================] - 4s 779ms/step - loss: 0.5955 - acc: 0.6250 - val_loss: 0.5542 - val_acc: 0.6812\n",
      "Epoch 95/100\n",
      "5/5 [==============================] - 4s 820ms/step - loss: 0.6561 - acc: 0.6125 - val_loss: 0.6171 - val_acc: 0.6313\n",
      "Epoch 96/100\n",
      "5/5 [==============================] - 4s 775ms/step - loss: 0.5842 - acc: 0.6667 - val_loss: 0.5874 - val_acc: 0.7000\n",
      "Epoch 97/100\n",
      "5/5 [==============================] - 4s 840ms/step - loss: 0.5298 - acc: 0.7250 - val_loss: 0.6161 - val_acc: 0.6625\n",
      "Epoch 98/100\n",
      "5/5 [==============================] - 4s 829ms/step - loss: 0.5580 - acc: 0.7063 - val_loss: 0.6196 - val_acc: 0.6687\n",
      "Epoch 99/100\n",
      "5/5 [==============================] - 4s 896ms/step - loss: 0.6053 - acc: 0.6438 - val_loss: 0.6044 - val_acc: 0.6687\n",
      "Epoch 100/100\n",
      "5/5 [==============================] - 4s 868ms/step - loss: 0.5559 - acc: 0.7312 - val_loss: 0.5781 - val_acc: 0.6625\n"
     ]
    }
   ],
   "source": [
    "history = model.fit_generator(\n",
    "      train_generator,\n",
    "      steps_per_epoch= 5,\n",
    "      epochs=100,\n",
    "      validation_data=validation_generator,\n",
    "      validation_steps=5)"
   ]
  },
  {
   "cell_type": "code",
   "execution_count": 72,
   "id": "de3bb473",
   "metadata": {},
   "outputs": [],
   "source": [
    "model.save(\"project_cnn.h5\")"
   ]
  },
  {
   "cell_type": "code",
   "execution_count": 73,
   "id": "ec6339d4",
   "metadata": {},
   "outputs": [
    {
     "data": {
      "image/png": "[encoded data removed]",
      "text/plain": [
       "<Figure size 800x500 with 1 Axes>"
      ]
     },
     "metadata": {},
     "output_type": "display_data"
    }
   ],
   "source": [
    "pd.DataFrame(history.history).plot(figsize=(8, 5))\n",
    "plt.grid(True)\n",
    "plt.gca().set_ylim(0, 1)\n",
    "plt.show()"
   ]
  },
  {
   "cell_type": "code",
   "execution_count": 74,
   "id": "aedc1010",
   "metadata": {},
   "outputs": [
    {
     "name": "stdout",
     "output_type": "stream",
     "text": [
      "Found 2000 images belonging to 2 classes.\n",
      "Found 1000 images belonging to 2 classes.\n"
     ]
    }
   ],
   "source": [
    "from tensorflow.keras.preprocessing.image import ImageDataGenerator\n",
    "\n",
    "train_datagen = ImageDataGenerator(\n",
    "      rescale=1./255,\n",
    "      rotation_range=40,\n",
    "      width_shift_range=0.2,\n",
    "      height_shift_range=0.2,\n",
    "      shear_range=0.2,\n",
    "      zoom_range=0.2,\n",
    "      horizontal_flip=True)\n",
    "\n",
    "test_datagen = ImageDataGenerator(rescale=1./255)\n",
    "\n",
    "train_generator = train_datagen.flow_from_directory(\n",
    "        train_dir,\n",
    "        target_size=(150, 150),\n",
    "        batch_size=20,\n",
    "        class_mode='binary')\n",
    "\n",
    "validation_generator = test_datagen.flow_from_directory(\n",
    "        validation_dir,\n",
    "        target_size=(150, 150),\n",
    "        batch_size=20,\n",
    "        class_mode='binary')"
   ]
  },
  {
   "cell_type": "code",
   "execution_count": 75,
   "id": "b2e62b46",
   "metadata": {},
   "outputs": [
    {
     "name": "stdout",
     "output_type": "stream",
     "text": [
      "Downloading data from https://storage.googleapis.com/tensorflow/keras-applications/vgg16/vgg16_weights_tf_dim_ordering_tf_kernels_notop.h5\n",
      "58889256/58889256 [==============================] - 23s 0us/step\n"
     ]
    }
   ],
   "source": [
    "from tensorflow.keras.applications import VGG16\n",
    "\n",
    "conv_base = VGG16(weights='imagenet',\n",
    "                  include_top=False,\n",
    "                  input_shape=(150, 150, 3))"
   ]
  },
  {
   "cell_type": "code",
   "execution_count": 76,
   "id": "081d9b0f",
   "metadata": {},
   "outputs": [
    {
     "name": "stdout",
     "output_type": "stream",
     "text": [
      "Model: \"vgg16\"\n",
      "_________________________________________________________________\n",
      " Layer (type)                Output Shape              Param #   \n",
      "=================================================================\n",
      " input_1 (InputLayer)        [(None, 150, 150, 3)]     0         \n",
      "                                                                 \n",
      " block1_conv1 (Conv2D)       (None, 150, 150, 64)      1792      \n",
      "                                                                 \n",
      " block1_conv2 (Conv2D)       (None, 150, 150, 64)      36928     \n",
      "                                                                 \n",
      " block1_pool (MaxPooling2D)  (None, 75, 75, 64)        0         \n",
      "                                                                 \n",
      " block2_conv1 (Conv2D)       (None, 75, 75, 128)       73856     \n",
      "                                                                 \n",
      " block2_conv2 (Conv2D)       (None, 75, 75, 128)       147584    \n",
      "                                                                 \n",
      " block2_pool (MaxPooling2D)  (None, 37, 37, 128)       0         \n",
      "                                                                 \n",
      " block3_conv1 (Conv2D)       (None, 37, 37, 256)       295168    \n",
      "                                                                 \n",
      " block3_conv2 (Conv2D)       (None, 37, 37, 256)       590080    \n",
      "                                                                 \n",
      " block3_conv3 (Conv2D)       (None, 37, 37, 256)       590080    \n",
      "                                                                 \n",
      " block3_pool (MaxPooling2D)  (None, 18, 18, 256)       0         \n",
      "                                                                 \n",
      " block4_conv1 (Conv2D)       (None, 18, 18, 512)       1180160   \n",
      "                                                                 \n",
      " block4_conv2 (Conv2D)       (None, 18, 18, 512)       2359808   \n",
      "                                                                 \n",
      " block4_conv3 (Conv2D)       (None, 18, 18, 512)       2359808   \n",
      "                                                                 \n",
      " block4_pool (MaxPooling2D)  (None, 9, 9, 512)         0         \n",
      "                                                                 \n",
      " block5_conv1 (Conv2D)       (None, 9, 9, 512)         2359808   \n",
      "                                                                 \n",
      " block5_conv2 (Conv2D)       (None, 9, 9, 512)         2359808   \n",
      "                                                                 \n",
      " block5_conv3 (Conv2D)       (None, 9, 9, 512)         2359808   \n",
      "                                                                 \n",
      " block5_pool (MaxPooling2D)  (None, 4, 4, 512)         0         \n",
      "                                                                 \n",
      "=================================================================\n",
      "Total params: 14,714,688\n",
      "Trainable params: 14,714,688\n",
      "Non-trainable params: 0\n",
      "_________________________________________________________________\n"
     ]
    }
   ],
   "source": [
    "conv_base.summary()"
   ]
  },
  {
   "cell_type": "code",
   "execution_count": 77,
   "id": "a2a7956e",
   "metadata": {},
   "outputs": [],
   "source": [
    "from tensorflow.keras import models\n",
    "from tensorflow.keras import layers\n",
    "\n",
    "model = models.Sequential()\n",
    "model.add(conv_base)\n",
    "model.add(layers.Flatten())\n",
    "model.add(layers.Dense(256, activation='relu'))\n",
    "model.add(layers.Dense(1, activation='sigmoid'))"
   ]
  },
  {
   "cell_type": "code",
   "execution_count": 78,
   "id": "1d46b2e2",
   "metadata": {},
   "outputs": [
    {
     "name": "stdout",
     "output_type": "stream",
     "text": [
      "Model: \"sequential_2\"\n",
      "_________________________________________________________________\n",
      " Layer (type)                Output Shape              Param #   \n",
      "=================================================================\n",
      " vgg16 (Functional)          (None, 4, 4, 512)         14714688  \n",
      "                                                                 \n",
      " flatten_2 (Flatten)         (None, 8192)              0         \n",
      "                                                                 \n",
      " dense_4 (Dense)             (None, 256)               2097408   \n",
      "                                                                 \n",
      " dense_5 (Dense)             (None, 1)                 257       \n",
      "                                                                 \n",
      "=================================================================\n",
      "Total params: 16,812,353\n",
      "Trainable params: 16,812,353\n",
      "Non-trainable params: 0\n",
      "_________________________________________________________________\n"
     ]
    }
   ],
   "source": [
    "model.summary()"
   ]
  },
  {
   "cell_type": "code",
   "execution_count": 82,
   "id": "fecce577",
   "metadata": {},
   "outputs": [],
   "source": [
    "from tensorflow.keras import optimizers\n",
    "\n",
    "model.compile(loss='binary_crossentropy',\n",
    "              optimizer=optimizers.RMSprop(learning_rate=2e-5),\n",
    "              metrics=['acc'])"
   ]
  },
  {
   "cell_type": "code",
   "execution_count": 83,
   "id": "ed5a9a03",
   "metadata": {},
   "outputs": [],
   "source": [
    "checkpoint_cb = keras.callbacks.ModelCheckpoint(\"CNN_Project_Model-{epoch:02d}.h5\")"
   ]
  },
  {
   "cell_type": "code",
   "execution_count": 84,
   "id": "ab590b4d",
   "metadata": {},
   "outputs": [
    {
     "name": "stderr",
     "output_type": "stream",
     "text": [
      "C:\\Users\\sejal\\AppData\\Local\\Temp\\ipykernel_19044\\2272497544.py:1: UserWarning: `Model.fit_generator` is deprecated and will be removed in a future version. Please use `Model.fit`, which supports generators.\n",
      "  history = model.fit_generator(\n"
     ]
    },
    {
     "name": "stdout",
     "output_type": "stream",
     "text": [
      "Epoch 1/30\n",
      "100/100 [==============================] - 564s 6s/step - loss: 0.4440 - acc: 0.7830 - val_loss: 0.2374 - val_acc: 0.9040\n",
      "Epoch 2/30\n",
      "100/100 [==============================] - 617s 6s/step - loss: 0.2637 - acc: 0.8895 - val_loss: 0.2248 - val_acc: 0.9190\n",
      "Epoch 3/30\n",
      "100/100 [==============================] - 620s 6s/step - loss: 0.2081 - acc: 0.9115 - val_loss: 0.1451 - val_acc: 0.9390\n",
      "Epoch 4/30\n",
      "100/100 [==============================] - 616s 6s/step - loss: 0.1692 - acc: 0.9325 - val_loss: 0.1903 - val_acc: 0.9330\n",
      "Epoch 5/30\n",
      "100/100 [==============================] - 610s 6s/step - loss: 0.1495 - acc: 0.9410 - val_loss: 0.1007 - val_acc: 0.9590\n",
      "Epoch 6/30\n",
      "100/100 [==============================] - 594s 6s/step - loss: 0.1231 - acc: 0.9480 - val_loss: 0.1547 - val_acc: 0.9450\n",
      "Epoch 7/30\n",
      "100/100 [==============================] - 529s 5s/step - loss: 0.0993 - acc: 0.9620 - val_loss: 0.1129 - val_acc: 0.9600\n",
      "Epoch 8/30\n",
      "100/100 [==============================] - 18988s 192s/step - loss: 0.1193 - acc: 0.9530 - val_loss: 0.0827 - val_acc: 0.9670\n",
      "Epoch 9/30\n",
      "100/100 [==============================] - 624s 6s/step - loss: 0.1009 - acc: 0.9605 - val_loss: 0.0892 - val_acc: 0.9660\n",
      "Epoch 10/30\n",
      "100/100 [==============================] - 610s 6s/step - loss: 0.0957 - acc: 0.9630 - val_loss: 0.1034 - val_acc: 0.9620\n",
      "Epoch 11/30\n",
      "100/100 [==============================] - 502s 5s/step - loss: 0.0713 - acc: 0.9675 - val_loss: 0.0835 - val_acc: 0.9680\n",
      "Epoch 12/30\n",
      "100/100 [==============================] - 500s 5s/step - loss: 0.0752 - acc: 0.9720 - val_loss: 0.1219 - val_acc: 0.9640\n",
      "Epoch 13/30\n",
      "100/100 [==============================] - 492s 5s/step - loss: 0.0667 - acc: 0.9765 - val_loss: 0.1059 - val_acc: 0.9610\n",
      "Epoch 14/30\n",
      "100/100 [==============================] - 479s 5s/step - loss: 0.0534 - acc: 0.9790 - val_loss: 0.1183 - val_acc: 0.9670\n",
      "Epoch 15/30\n",
      "100/100 [==============================] - 466s 5s/step - loss: 0.0774 - acc: 0.9755 - val_loss: 0.0657 - val_acc: 0.9750\n",
      "Epoch 16/30\n",
      "100/100 [==============================] - 451s 5s/step - loss: 0.0561 - acc: 0.9755 - val_loss: 0.1095 - val_acc: 0.9700\n",
      "Epoch 17/30\n",
      "100/100 [==============================] - 440s 4s/step - loss: 0.0509 - acc: 0.9810 - val_loss: 0.3099 - val_acc: 0.9250\n",
      "Epoch 18/30\n",
      "100/100 [==============================] - 468s 5s/step - loss: 0.0469 - acc: 0.9825 - val_loss: 0.0869 - val_acc: 0.9740\n",
      "Epoch 19/30\n",
      "100/100 [==============================] - 477s 5s/step - loss: 0.0614 - acc: 0.9845 - val_loss: 1.3695 - val_acc: 0.8120\n",
      "Epoch 20/30\n",
      "100/100 [==============================] - 458s 5s/step - loss: 0.0595 - acc: 0.9800 - val_loss: 0.1531 - val_acc: 0.9660\n",
      "Epoch 21/30\n",
      "100/100 [==============================] - 447s 4s/step - loss: 0.0611 - acc: 0.9825 - val_loss: 0.0974 - val_acc: 0.9770\n",
      "Epoch 22/30\n",
      "100/100 [==============================] - 459s 5s/step - loss: 0.0534 - acc: 0.9795 - val_loss: 0.1100 - val_acc: 0.9690\n",
      "Epoch 23/30\n",
      "100/100 [==============================] - 455s 5s/step - loss: 0.0406 - acc: 0.9860 - val_loss: 0.1168 - val_acc: 0.9700\n",
      "Epoch 24/30\n",
      "100/100 [==============================] - 543s 5s/step - loss: 0.0507 - acc: 0.9835 - val_loss: 0.1362 - val_acc: 0.9630\n",
      "Epoch 25/30\n",
      "100/100 [==============================] - 874s 9s/step - loss: 0.0543 - acc: 0.9845 - val_loss: 0.1302 - val_acc: 0.9580\n",
      "Epoch 26/30\n",
      "100/100 [==============================] - 621s 6s/step - loss: 0.0334 - acc: 0.9890 - val_loss: 0.1133 - val_acc: 0.9730\n",
      "Epoch 27/30\n",
      "100/100 [==============================] - 669s 7s/step - loss: 0.0386 - acc: 0.9895 - val_loss: 0.1281 - val_acc: 0.9710\n",
      "Epoch 28/30\n",
      "100/100 [==============================] - 593s 6s/step - loss: 0.0500 - acc: 0.9860 - val_loss: 0.1162 - val_acc: 0.9690\n",
      "Epoch 29/30\n",
      "100/100 [==============================] - 574s 6s/step - loss: 0.0349 - acc: 0.9885 - val_loss: 0.1414 - val_acc: 0.9640\n",
      "Epoch 30/30\n",
      "100/100 [==============================] - 574s 6s/step - loss: 0.0385 - acc: 0.9855 - val_loss: 0.1367 - val_acc: 0.9750\n"
     ]
    }
   ],
   "source": [
    "history = model.fit_generator(\n",
    "      train_generator,\n",
    "      steps_per_epoch=100,\n",
    "      epochs=30,\n",
    "      validation_data=validation_generator,\n",
    "      validation_steps=50,\n",
    "      callbacks=[checkpoint_cb])"
   ]
  },
  {
   "cell_type": "code",
   "execution_count": 85,
   "id": "abad86e9",
   "metadata": {},
   "outputs": [
    {
     "data": {
      "image/png": "[encoded data removed]",
      "text/plain": [
       "<Figure size 800x500 with 1 Axes>"
      ]
     },
     "metadata": {},
     "output_type": "display_data"
    }
   ],
   "source": [
    "pd.DataFrame(history.history).plot(figsize=(8, 5))\n",
    "plt.grid(True)\n",
    "plt.gca().set_ylim(0, 1)\n",
    "plt.show()"
   ]
  },
  {
   "cell_type": "code",
   "execution_count": 86,
   "id": "fa293819",
   "metadata": {},
   "outputs": [],
   "source": [
    "hist_df = pd.DataFrame(history.history) "
   ]
  },
  {
   "cell_type": "code",
   "execution_count": 87,
   "id": "e1b3c2f4",
   "metadata": {},
   "outputs": [],
   "source": [
    "hist_csv_file = 'history.csv'\n",
    "with open(hist_csv_file, mode='w') as f:\n",
    "    hist_df.to_csv(f)"
   ]
  },
  {
   "cell_type": "code",
   "execution_count": 88,
   "id": "ef742fbc",
   "metadata": {},
   "outputs": [
    {
     "name": "stdout",
     "output_type": "stream",
     "text": [
      "Found 1000 images belonging to 2 classes.\n"
     ]
    }
   ],
   "source": [
    "test_generator = test_datagen.flow_from_directory(\n",
    "        test_dir,\n",
    "        target_size=(150, 150),\n",
    "        batch_size=20,\n",
    "        class_mode='binary')"
   ]
  },
  {
   "cell_type": "code",
   "execution_count": null,
   "id": "d0e49cff",
   "metadata": {},
   "outputs": [],
   "source": [
    "model.evaluate_generator(test_generator, steps=50)"
   ]
  },
  {
   "cell_type": "code",
   "execution_count": null,
   "id": "7967dc67",
   "metadata": {},
   "outputs": [],
   "source": []
  },
  {
   "cell_type": "code",
   "execution_count": null,
   "id": "f1c72ded",
   "metadata": {},
   "outputs": [],
   "source": []
  },
  {
   "cell_type": "code",
   "execution_count": null,
   "id": "04832536",
   "metadata": {},
   "outputs": [],
   "source": []
  },
  {
   "cell_type": "code",
   "execution_count": null,
   "id": "ff6bab40",
   "metadata": {},
   "outputs": [],
   "source": []
  },
  {
   "cell_type": "code",
   "execution_count": null,
   "id": "2c05726a",
   "metadata": {},
   "outputs": [],
   "source": []
  },
  {
   "cell_type": "code",
   "execution_count": null,
   "id": "02d6b17d",
   "metadata": {},
   "outputs": [],
   "source": []
  },
  {
   "cell_type": "code",
   "execution_count": null,
   "id": "bb077f8e",
   "metadata": {},
   "outputs": [],
   "source": []
  },
  {
   "cell_type": "code",
   "execution_count": null,
   "id": "fba556e9",
   "metadata": {},
   "outputs": [],
   "source": []
  },
  {
   "cell_type": "code",
   "execution_count": null,
   "id": "16eaa3c0",
   "metadata": {},
   "outputs": [],
   "source": []
  },
  {
   "cell_type": "code",
   "execution_count": null,
   "id": "ba1289c3",
   "metadata": {},
   "outputs": [],
   "source": []
  },
  {
   "cell_type": "code",
   "execution_count": null,
   "id": "ce4b8f08",
   "metadata": {},
   "outputs": [],
   "source": []
  },
  {
   "cell_type": "code",
   "execution_count": null,
   "id": "5a1b155a",
   "metadata": {},
   "outputs": [],
   "source": []
  },
  {
   "cell_type": "code",
   "execution_count": null,
   "id": "b15acfa8",
   "metadata": {},
   "outputs": [],
   "source": []
  },
  {
   "cell_type": "code",
   "execution_count": null,
   "id": "fbf5f500",
   "metadata": {},
   "outputs": [],
   "source": []
  },
  {
   "cell_type": "code",
   "execution_count": null,
   "id": "3c7d082c",
   "metadata": {},
   "outputs": [],
   "source": []
  },
  {
   "cell_type": "code",
   "execution_count": null,
   "id": "de6b24f8",
   "metadata": {},
   "outputs": [],
   "source": []
  },
  {
   "cell_type": "code",
   "execution_count": null,
   "id": "64597152",
   "metadata": {},
   "outputs": [],
   "source": []
  },
  {
   "cell_type": "code",
   "execution_count": null,
   "id": "9c520092",
   "metadata": {},
   "outputs": [],
   "source": []
  },
  {
   "cell_type": "code",
   "execution_count": null,
   "id": "cd2937fc",
   "metadata": {},
   "outputs": [],
   "source": []
  },
  {
   "cell_type": "code",
   "execution_count": null,
   "id": "d273141d",
   "metadata": {},
   "outputs": [],
   "source": []
  },
  {
   "cell_type": "code",
   "execution_count": null,
   "id": "5228a3dd",
   "metadata": {},
   "outputs": [],
   "source": []
  },
  {
   "cell_type": "code",
   "execution_count": null,
   "id": "e8390bde",
   "metadata": {},
   "outputs": [],
   "source": []
  },
  {
   "cell_type": "code",
   "execution_count": null,
   "id": "d047de4e",
   "metadata": {},
   "outputs": [],
   "source": []
  },
  {
   "cell_type": "code",
   "execution_count": null,
   "id": "e92bbd91",
   "metadata": {},
   "outputs": [],
   "source": []
  },
  {
   "cell_type": "code",
   "execution_count": null,
   "id": "1663d696",
   "metadata": {},
   "outputs": [],
   "source": []
  },
  {
   "cell_type": "code",
   "execution_count": null,
   "id": "b74b0b01",
   "metadata": {},
   "outputs": [],
   "source": []
  },
  {
   "cell_type": "code",
   "execution_count": null,
   "id": "38f8f537",
   "metadata": {},
   "outputs": [],
   "source": []
  },
  {
   "cell_type": "code",
   "execution_count": null,
   "id": "0caceece",
   "metadata": {},
   "outputs": [],
   "source": []
  },
  {
   "cell_type": "code",
   "execution_count": null,
   "id": "c5339514",
   "metadata": {},
   "outputs": [],
   "source": []
  },
  {
   "cell_type": "code",
   "execution_count": null,
   "id": "232d6672",
   "metadata": {},
   "outputs": [],
   "source": []
  },
  {
   "cell_type": "code",
   "execution_count": null,
   "id": "3d68ae61",
   "metadata": {},
   "outputs": [],
   "source": []
  },
  {
   "cell_type": "code",
   "execution_count": null,
   "id": "407c4471",
   "metadata": {},
   "outputs": [],
   "source": []
  },
  {
   "cell_type": "code",
   "execution_count": null,
   "id": "b9e28c46",
   "metadata": {},
   "outputs": [],
   "source": []
  },
  {
   "cell_type": "code",
   "execution_count": null,
   "id": "46f2ab1a",
   "metadata": {},
   "outputs": [],
   "source": []
  }
 ],
 "metadata": {
  "kernelspec": {
   "display_name": "Python 3 (ipykernel)",
   "language": "python",
   "name": "python3"
  },
  "language_info": {
   "codemirror_mode": {
    "name": "ipython",
    "version": 3
   },
   "file_extension": ".py",
   "mimetype": "text/x-python",
   "name": "python",
   "nbconvert_exporter": "python",
   "pygments_lexer": "ipython3",
   "version": "3.9.18"
  }
 },
 "nbformat": 4,
 "nbformat_minor": 5
}
